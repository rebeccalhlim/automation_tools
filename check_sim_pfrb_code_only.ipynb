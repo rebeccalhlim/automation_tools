{
 "cells": [
  {
   "cell_type": "code",
   "execution_count": null,
   "metadata": {},
   "outputs": [],
   "source": [
    "import pandas as pd\n",
    "import numpy as np\n",
    "import matplotlib.pyplot as plt\n",
    "import warnings"
   ]
  },
  {
   "cell_type": "code",
   "execution_count": null,
   "metadata": {},
   "outputs": [],
   "source": [
    "warnings.filterwarnings(\"ignore\")"
   ]
  },
  {
   "cell_type": "code",
   "execution_count": null,
   "metadata": {},
   "outputs": [],
   "source": [
    "price = pd.read_csv('some_file_name',index_col=0)#'all_xl.csv'\n",
    "price = pd.pivot_table(price,'close','date','code').ffill()\n",
    "price.index = pd.to_datetime(price.index)\n",
    "price = price[['each of the asset']]\n",
    "ret = price.pct_change()\n",
    "price"
   ]
  },
  {
   "cell_type": "code",
   "execution_count": null,
   "metadata": {},
   "outputs": [],
   "source": [
    "name_list = ['what you call it' ]\n",
    "\n",
    "excel_list = ['filename.xlsx']\n",
    "\n"
   ]
  },
  {
   "cell_type": "code",
   "execution_count": null,
   "metadata": {},
   "outputs": [],
   "source": [
    "def plot_stack(df, sorted_index=None, title='', figsize=(16,9), benchmark=None):\n",
    "    \n",
    "    if sorted_index is None:\n",
    "        sorted_index = df.sum().sort_values().index\n",
    "    \n",
    "    cm = plt.get_cmap('tab20')\n",
    "    NUM_COLORS = len(sorted_index)\n",
    "    color = [cm(1.*i/NUM_COLORS) for i in range(NUM_COLORS)]\n",
    "    \n",
    "    \n",
    "    fig = plt.figure(figsize=figsize)\n",
    "    ax = fig.add_subplot(111)\n",
    "\n",
    "    ax.set_prop_cycle(color=color[::-1])\n",
    "    df1 = df.reindex(sorted_index[::-1], axis=1).applymap(lambda x: x if x>=0 else np.nan).fillna(0)\n",
    "    df1.plot.area(ax=ax, linewidth=0)\n",
    "\n",
    "\n",
    "    ax.set_prop_cycle(color=color)\n",
    "    df0 = df.reindex(sorted_index, axis=1).applymap(lambda x: x if x<0 else np.nan)\n",
    "    df0 = df0.rename(columns=lambda x: '_' + x)\n",
    "    df0.plot.area(ax=ax, linewidth=0)\n",
    "\n",
    "\n",
    "    pad = (df1.sum(axis=1).max() - df0.sum(axis=1).min())/20\n",
    "    ax.set_ylim([df0.sum(axis=1).min()-pad, df1.sum(axis=1).max()+pad])\n",
    "    \n",
    "    \n",
    "    df.sum(1).plot(ax=ax, style='k', linewidth=0.5, label='net')\n",
    "    try:\n",
    "        benchmark['TLT'].plot(ax=ax, style='k--', linewidth=0.5, label='TLT')\n",
    "    except:\n",
    "        print('benchmark not valid')\n",
    "    \n",
    "    ax.set_title(title)\n",
    "    ax.legend(loc='center left', bbox_to_anchor=(1, 0.5))"
   ]
  },
  {
   "cell_type": "code",
   "execution_count": null,
   "metadata": {},
   "outputs": [],
   "source": [
    "def plot_all(excel_file_name, ret, ini='2007', start='2008', end='2021/12', name=''):\n",
    "    \n",
    "    result = {}\n",
    "    \n",
    "    kpi = pd.read_excel(excel_file_name, sheet_name='KPI', index_col=0)\n",
    "    ykpi = pd.read_excel(excel_file_name, sheet_name='KPI(Annually)', index_col=0)\n",
    "    mkpi = pd.read_excel(excel_file_name, sheet_name='KPI(Monthly)', index_col=0)\n",
    "    \n",
    "    allo = pd.read_excel(excel_file_name, sheet_name='History', index_col=0)\n",
    "    \n",
    "    allo = allo.iloc[1:]\n",
    "    allo.index = pd.to_datetime(allo.index)\n",
    "    try:\n",
    "        allo = allo.drop(['cash','debit','aum','lev_cost','perf','commissions','asset','asset_gross'], 1)\n",
    "    except:\n",
    "        pass\n",
    "    try:\n",
    "        balance_ini = allo[ini].Balance.iloc[-1]\n",
    "    except:\n",
    "        balance_ini = 1e9\n",
    "    \n",
    "    allo = allo[start:end]\n",
    "    \n",
    "    balance_open = allo.Balance.shift().fillna(balance_ini)\n",
    "    \n",
    "    asset_value_close = allo.drop(['Balance'], 1)\n",
    "    if int(end[:4]) < 2016:\n",
    "        asset_value_close = asset_value_close.drop(['FSP','LSP','OSP','PC0',], 1)\n",
    "        ret = ret.drop(['FSP','LSP','OSP','PC0',], 1)\n",
    "    \n",
    "    idx_allo = asset_value_close.index\n",
    "    idx_ret = ret.index\n",
    "\n",
    "    idx_common = list(set(idx_allo) & set(idx_ret))\n",
    "    idx_common.sort()\n",
    "\n",
    "    asset_value_close = asset_value_close.reindex(idx_common)\n",
    "    ret_ = ret.reindex(idx_common)\n",
    "\n",
    "    asset_value_open = asset_value_close/(1+ret_)\n",
    "    asset_value_diff = asset_value_close - asset_value_open\n",
    "\n",
    "    \n",
    "    net_cum_ret = (1+ret_).cumprod()-1\n",
    "    net_ret = (1+ret_).prod()-1\n",
    "    net_ret.sort_values()\n",
    "    \n",
    "    \n",
    "    net_aml_ret = asset_value_diff/balance_ini\n",
    "    net_aml_cum_ret = net_aml_ret.cumsum()\n",
    "    net_aml_total_ret = net_aml_ret.sum()\n",
    "    net_aml_total_ret.sort_values()\n",
    "    \n",
    "    lev = pd.concat([(asset_value_open[a]/balance_open) for a in ret.columns], 1, keys=ret.columns)\n",
    "    \n",
    "    weighted_aml_ret = net_aml_ret / lev.mean()\n",
    "    weighted_aml_cum_ret = weighted_aml_ret.cumsum()\n",
    "    weighted_aml_total_ret = weighted_aml_ret.sum()\n",
    "    weighted_aml_total_ret.sort_values()\n",
    "\n",
    "    \n",
    "    change_comp = pd.concat([net_ret, net_aml_total_ret, weighted_aml_total_ret],1,\n",
    "          keys=['net_ret', 'net_aml_ret', 'weighted_aml_ret']).sort_index()\n",
    "    title = '{} to {}'.format(start, end)\n",
    "    change_comp.sort_values('net_aml_ret').plot.bar(figsize=(16,9), title=name+' '+title)\n",
    "    \n",
    "    \n",
    "    daily_df_dict = {}\n",
    "    for a in ret.columns:\n",
    "        daily_df_dict[a] = pd.concat([net_cum_ret[a], net_aml_cum_ret[a], weighted_aml_cum_ret[a]],1,\n",
    "              keys=['net_cum_ret', 'net_aml_cum_ret', 'weighted_aml_cum_ret'])\n",
    "        ax = daily_df_dict[a][['net_cum_ret', 'weighted_aml_cum_ret']].plot(figsize=(12,6), title=a)\n",
    "        ax.set_ylabel(\"cumulative return\")\n",
    "        ax.legend(loc='center right', bbox_to_anchor=(0, 1))\n",
    "    \n",
    "        twinx = ax.twinx()\n",
    "        lev[a].plot(ax=twinx, style='r--', label='lev', alpha=0.3)\n",
    "        twinx.set_ylabel(\"leverage\")\n",
    "        twinx.legend(loc='center left', bbox_to_anchor=(1, 1))\n",
    "    \n",
    "    # plot aml_cum_ret (stacked)\n",
    "    \n",
    "    net_aml_cum_ret_df = pd.DataFrame({a:daily_df_dict[a]['net_aml_cum_ret'] for a in ret.columns}).fillna(0)\n",
    "    net_aml_cum_ret_df.plot(figsize=(16,9), title=name+' cumulative aml return')\n",
    "    plot_stack(net_aml_cum_ret_df, title=name+' cumulative aml return (stacked)', benchmark=net_cum_ret)\n",
    "\n",
    "    result['balance'] = allo.Balance\n",
    "    result['kpi'] = kpi\n",
    "    result['ykpi'] = ykpi\n",
    "    result['mkpi'] = mkpi\n",
    "    result['lev'] = lev\n",
    "    result['net_aml_cum_ret_df'] = net_aml_cum_ret_df\n",
    "    \n",
    "    return result\n"
   ]
  },
  {
   "cell_type": "code",
   "execution_count": null,
   "metadata": {},
   "outputs": [],
   "source": [
    "for n in excel_list:\n",
    "    print(n)"
   ]
  },
  {
   "cell_type": "code",
   "execution_count": null,
   "metadata": {
    "scrolled": false
   },
   "outputs": [],
   "source": [
    "result_all = {}\n",
    "for n, e in zip(name_list, excel_list):\n",
    "    #result_all[n] = plot_all(e, ret, name=n)\n",
    "    result_all[n] = plot_all(e, ret, ini='2007', start='2008', name=n)\n",
    "\n"
   ]
  },
  {
   "cell_type": "code",
   "execution_count": null,
   "metadata": {
    "scrolled": false
   },
   "outputs": [],
   "source": [
    "kpi_all = pd.concat([result_all[n]['kpi'] for n in name_list], 1, keys=name_list)\n",
    "kpi_all"
   ]
  },
  {
   "cell_type": "code",
   "execution_count": null,
   "metadata": {},
   "outputs": [],
   "source": [
    "for n in name_list:\n",
    "    print(n)"
   ]
  },
  {
   "cell_type": "code",
   "execution_count": null,
   "metadata": {},
   "outputs": [],
   "source": [
    "pd.concat([result_all[n]['ykpi'] for n in name_list], 1, keys=name_list).columns"
   ]
  },
  {
   "cell_type": "code",
   "execution_count": null,
   "metadata": {},
   "outputs": [],
   "source": []
  }
 ],
 "metadata": {
  "kernelspec": {
   "display_name": "Python 3",
   "language": "python",
   "name": "python3"
  },
  "language_info": {
   "codemirror_mode": {
    "name": "ipython",
    "version": 3
   },
   "file_extension": ".py",
   "mimetype": "text/x-python",
   "name": "python",
   "nbconvert_exporter": "python",
   "pygments_lexer": "ipython3",
   "version": "3.6.3"
  }
 },
 "nbformat": 4,
 "nbformat_minor": 2
}
